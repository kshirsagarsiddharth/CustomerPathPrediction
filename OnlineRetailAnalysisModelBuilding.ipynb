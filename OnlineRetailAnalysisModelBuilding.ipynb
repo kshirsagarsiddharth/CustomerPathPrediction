{
 "cells": [
  {
   "cell_type": "markdown",
   "id": "b033affe-4c9a-40a0-abae-8f1085482553",
   "metadata": {},
   "source": [
    "<center>\n",
    "<img src=\"https://www.seekpng.com/png/full/113-1133172_digital-marketing-digital-marketing-clipart.png\" width=600>\n",
    "</center>\n",
    "<div style=\"padding:20px; \n",
    "            color:#150d0a;\n",
    "            margin:10px;\n",
    "            font-size:220%;\n",
    "            text-align:center;\n",
    "            display:fill;\n",
    "            border-radius:20px;\n",
    "            border-width: 5px;\n",
    "            border-style: solid;\n",
    "            border-color: #150d0a;\n",
    "            background-color:#eca912;\n",
    "            overflow:hidden;\n",
    "            font-weight:500\">E-commerce Journey Prediction</div>"
   ]
  },
  {
   "cell_type": "markdown",
   "id": "7741a258-3fd5-4be2-8ff8-fa2ff357f0d7",
   "metadata": {},
   "source": [
    "### <font color='289C4E'>Table of contents<font><a class='anchor' id='top'></a>\n",
    "1. [Read the data and Feature enginnering](#explore_clean_format)\n",
    "2. [Classifier to Detect Segments](#eda_to_understand_data)\n",
    "3. [Markov Chain Model for future prediction](#feture_engineering_and_rfm)\n",
    "4. [LSTM to predict future segments](#kmeans_segments)"
   ]
  },
  {
   "cell_type": "code",
   "execution_count": 1,
   "id": "35cc76b8-6b6c-4202-8615-d4cf7d6ed24b",
   "metadata": {},
   "outputs": [
    {
     "data": {
      "text/plain": [
       "<Figure size 640x480 with 0 Axes>"
      ]
     },
     "metadata": {},
     "output_type": "display_data"
    }
   ],
   "source": [
    "import pandas as pd \n",
    "import numpy as np \n",
    "import seaborn as sns \n",
    "import matplotlib.pyplot as plt \n",
    "import re\n",
    "from datetime import datetime\n",
    "from sklearn.metrics import silhouette_score\n",
    "from sklearn.preprocessing import StandardScaler\n",
    "from sklearn.cluster import KMeans\n",
    "from sklearn.ensemble import RandomForestClassifier \n",
    "from sklearn.metrics import classification_report \n",
    "from sklearn.model_selection import cross_val_score\n",
    "from sklearn.model_selection import train_test_split\n",
    "import pickle \n",
    "\n",
    "sns.set_context(\"talk\")\n",
    "sns.despine()\n",
    "sns.set_style(\"darkgrid\")\n",
    "pd.set_option('display.max_rows', 500)"
   ]
  },
  {
   "cell_type": "markdown",
   "id": "1563e313-0519-4679-a178-62ddc402458f",
   "metadata": {},
   "source": [
    "<h1 align=\"left\"><font color='green'>1. Read the data and Feature enginnering </font></h1> <a class='anchor' id='explore_clean_format'></a>"
   ]
  },
  {
   "cell_type": "code",
   "execution_count": 2,
   "id": "2fda8b57-eab5-4289-834b-392685fc4cac",
   "metadata": {},
   "outputs": [],
   "source": [
    "# Read the data from a parquet file\n",
    "df = pd.read_parquet('OnlineRetail.parquet')\n",
    "# Filter out the outliers in UnitPrice and Quantity columns\n",
    "df = df[(df['UnitPrice']<6000) & (df['Quantity']<6000)]\n",
    "# Read the features dataset from a csv file\n",
    "features_dataset = pd.read_csv(\"FeaturesDataset.csv\")\n",
    "# Calculate the amount by multiplying Quantity and UnitPrice\n",
    "df['Amount'] = df['Quantity'] * df['UnitPrice']"
   ]
  },
  {
   "cell_type": "code",
   "execution_count": 3,
   "id": "fe787b0b-d3e2-4b36-ab6c-b043ab3759ad",
   "metadata": {},
   "outputs": [],
   "source": [
    "# Define the current date as 31st December 2011\n",
    "current_date = datetime(2011,12,31)\n",
    "# Group the data by CustomerID and InvoiceNo and calculate the sum of Amount, the count of StockCode and the first InvoiceDate for each group\n",
    "df = df.groupby(['CustomerID','InvoiceNo']).agg({\"Amount\":\"sum\",\"StockCode\":\"count\",\"InvoiceDate\":\"first\"}).reset_index()\n",
    "# Rename the columns to more meaningful names\n",
    "df = df.rename(columns = {\"Amount\":\"AmountSpent\",\"StockCode\":\"ItemsPurchased\",\"InvoiceDate\":\"DateOfPurchase\"})"
   ]
  },
  {
   "cell_type": "code",
   "execution_count": 4,
   "id": "161a3ca9-6ea8-4f13-b678-fa5a07fc3243",
   "metadata": {},
   "outputs": [],
   "source": [
    "# Calculate the cumulative amount spent by each customer by sorting the data by DateOfPurchase and applying the cumsum method on AmountSpent column\n",
    "df['cumamount'] = df.sort_values(by = ['DateOfPurchase'], ascending=True).groupby('CustomerID')['AmountSpent'].cumsum() \n",
    "# Calculate the cumulative number of items purchased by each customer by sorting the data by DateOfPurchase and applying the cumsum method on ItemsPurchased column\n",
    "df['cumorders'] = df.sort_values(by = ['DateOfPurchase'], ascending=True).groupby('CustomerID')['ItemsPurchased'].cumsum() \n",
    "# Calculate the recency of each purchase by subtracting the DateOfPurchase from the current date and converting it to days\n",
    "df['Recency'] = df['DateOfPurchase'].apply(lambda x : (current_date - x).days)"
   ]
  },
  {
   "cell_type": "code",
   "execution_count": 5,
   "id": "8dc78ad3-15b3-4b7d-815d-9a9ea6a8a00c",
   "metadata": {},
   "outputs": [],
   "source": [
    "# Select only the columns of interest: CustomerID, cumamount, cumorders and Recency\n",
    "df = df[['CustomerID','cumamount','cumorders','Recency']]\n",
    "# Rename the columns to more meaningful names: Monetary and Frequency\n",
    "df = df.rename(columns = {'cumamount':'Monetary','cumorders':'Frequency'})"
   ]
  },
  {
   "cell_type": "code",
   "execution_count": 6,
   "id": "4d7f270f-32b9-45cf-bf6a-d8f1ad19e85b",
   "metadata": {},
   "outputs": [
    {
     "data": {
      "text/html": [
       "<div>\n",
       "<style scoped>\n",
       "    .dataframe tbody tr th:only-of-type {\n",
       "        vertical-align: middle;\n",
       "    }\n",
       "\n",
       "    .dataframe tbody tr th {\n",
       "        vertical-align: top;\n",
       "    }\n",
       "\n",
       "    .dataframe thead th {\n",
       "        text-align: right;\n",
       "    }\n",
       "</style>\n",
       "<table border=\"1\" class=\"dataframe\">\n",
       "  <thead>\n",
       "    <tr style=\"text-align: right;\">\n",
       "      <th></th>\n",
       "      <th>CustomerID</th>\n",
       "      <th>Monetary</th>\n",
       "      <th>Frequency</th>\n",
       "      <th>Recency</th>\n",
       "    </tr>\n",
       "  </thead>\n",
       "  <tbody>\n",
       "    <tr>\n",
       "      <th>0</th>\n",
       "      <td>12347.0</td>\n",
       "      <td>711.79</td>\n",
       "      <td>31</td>\n",
       "      <td>388</td>\n",
       "    </tr>\n",
       "    <tr>\n",
       "      <th>1</th>\n",
       "      <td>12347.0</td>\n",
       "      <td>1187.18</td>\n",
       "      <td>60</td>\n",
       "      <td>338</td>\n",
       "    </tr>\n",
       "    <tr>\n",
       "      <th>2</th>\n",
       "      <td>12347.0</td>\n",
       "      <td>1823.43</td>\n",
       "      <td>84</td>\n",
       "      <td>267</td>\n",
       "    </tr>\n",
       "    <tr>\n",
       "      <th>3</th>\n",
       "      <td>12347.0</td>\n",
       "      <td>2205.95</td>\n",
       "      <td>102</td>\n",
       "      <td>204</td>\n",
       "    </tr>\n",
       "    <tr>\n",
       "      <th>4</th>\n",
       "      <td>12347.0</td>\n",
       "      <td>2790.86</td>\n",
       "      <td>124</td>\n",
       "      <td>150</td>\n",
       "    </tr>\n",
       "    <tr>\n",
       "      <th>...</th>\n",
       "      <td>...</td>\n",
       "      <td>...</td>\n",
       "      <td>...</td>\n",
       "      <td>...</td>\n",
       "    </tr>\n",
       "    <tr>\n",
       "      <th>18524</th>\n",
       "      <td>18283.0</td>\n",
       "      <td>1886.88</td>\n",
       "      <td>706</td>\n",
       "      <td>30</td>\n",
       "    </tr>\n",
       "    <tr>\n",
       "      <th>18525</th>\n",
       "      <td>18283.0</td>\n",
       "      <td>2094.88</td>\n",
       "      <td>756</td>\n",
       "      <td>24</td>\n",
       "    </tr>\n",
       "    <tr>\n",
       "      <th>18526</th>\n",
       "      <td>18287.0</td>\n",
       "      <td>765.28</td>\n",
       "      <td>29</td>\n",
       "      <td>222</td>\n",
       "    </tr>\n",
       "    <tr>\n",
       "      <th>18527</th>\n",
       "      <td>18287.0</td>\n",
       "      <td>1766.60</td>\n",
       "      <td>67</td>\n",
       "      <td>79</td>\n",
       "    </tr>\n",
       "    <tr>\n",
       "      <th>18528</th>\n",
       "      <td>18287.0</td>\n",
       "      <td>1837.28</td>\n",
       "      <td>70</td>\n",
       "      <td>63</td>\n",
       "    </tr>\n",
       "  </tbody>\n",
       "</table>\n",
       "<p>18529 rows × 4 columns</p>\n",
       "</div>"
      ],
      "text/plain": [
       "       CustomerID  Monetary  Frequency  Recency\n",
       "0         12347.0    711.79         31      388\n",
       "1         12347.0   1187.18         60      338\n",
       "2         12347.0   1823.43         84      267\n",
       "3         12347.0   2205.95        102      204\n",
       "4         12347.0   2790.86        124      150\n",
       "...           ...       ...        ...      ...\n",
       "18524     18283.0   1886.88        706       30\n",
       "18525     18283.0   2094.88        756       24\n",
       "18526     18287.0    765.28         29      222\n",
       "18527     18287.0   1766.60         67       79\n",
       "18528     18287.0   1837.28         70       63\n",
       "\n",
       "[18529 rows x 4 columns]"
      ]
     },
     "execution_count": 6,
     "metadata": {},
     "output_type": "execute_result"
    }
   ],
   "source": [
    "df"
   ]
  },
  {
   "cell_type": "markdown",
   "id": "b1c9a6e7",
   "metadata": {},
   "source": [
    "<h1 align=\"left\"><font color='green'>2. Classifier to Detect customer segments</font></h1> <a class='anchor' id='eda_to_understand_data'></a>"
   ]
  },
  {
   "cell_type": "code",
   "execution_count": 7,
   "id": "d915265b-11b5-4d19-9123-b70654c9f9a8",
   "metadata": {},
   "outputs": [],
   "source": [
    "# Select the features and the target variable from the features dataset\n",
    "data_to_train = features_dataset[['URecency','UMonetary','UFrequency','Segments']]\n",
    "# Create a random forest classifier with a fixed random state\n",
    "rf = RandomForestClassifier(random_state=42) \n",
    "# Split the data into training and testing sets with a 33% test size and a fixed random state\n",
    "X_train, X_test, y_train, y_test = train_test_split(data_to_train.drop(columns = \"Segments\"), data_to_train[['Segments']].values.ravel(), test_size=0.33, random_state=42)\n",
    "# Train the random forest classifier on the training data\n",
    "rf.fit(X_train,y_train)\n",
    "# Predict the target variable on the testing data\n",
    "ypred = rf.predict(X_test)"
   ]
  },
  {
   "cell_type": "code",
   "execution_count": 8,
   "id": "2140bf9a-5b88-444e-b2fd-5091d6c164e6",
   "metadata": {},
   "outputs": [
    {
     "name": "stdout",
     "output_type": "stream",
     "text": [
      "                     precision    recall  f1-score   support\n",
      "\n",
      "     about_to_sleep       0.99      0.99      0.99        91\n",
      "            at_Risk       0.98      0.98      0.98       198\n",
      "         cant_loose       1.00      0.96      0.98        27\n",
      "          champions       1.00      1.00      1.00       206\n",
      "        hibernating       0.99      0.99      0.99       329\n",
      "    loyal_customers       1.00      1.00      1.00       276\n",
      "     need_attention       0.98      0.97      0.98        66\n",
      "      new_customers       1.00      1.00      1.00        18\n",
      "potential_loyalists       0.99      1.00      1.00       188\n",
      "          promising       1.00      0.97      0.98        33\n",
      "\n",
      "           accuracy                           0.99      1432\n",
      "          macro avg       0.99      0.99      0.99      1432\n",
      "       weighted avg       0.99      0.99      0.99      1432\n",
      "\n"
     ]
    }
   ],
   "source": [
    "# from the report we observe the classifier perfectly classifies the segments \n",
    "print(classification_report(y_test,ypred))"
   ]
  },
  {
   "cell_type": "code",
   "execution_count": 9,
   "id": "fa1dd681-576e-4b5e-aae0-2b7b05356178",
   "metadata": {},
   "outputs": [],
   "source": [
    "# Create a final random forest classifier with a fixed random state\n",
    "rf_final = RandomForestClassifier(random_state=42)\n",
    "# Train the final random forest classifier on the entire data\n",
    "rf_final.fit(data_to_train.drop(columns = \"Segments\"), data_to_train[['Segments']].values.ravel())\n",
    "\n",
    "\n",
    "# Predict the segments for each customer using the final random forest classifier and the Recency, Monetary and Frequency columns\n",
    "# Rename the columns to match the features used for training the classifier\n",
    "df['Path'] = rf_final.predict(df[['Recency','Monetary','Frequency']].rename(columns = {'Recency':\"URecency\",'Monetary':\"UMonetary\",\"Frequency\":\"UFrequency\"}))"
   ]
  },
  {
   "cell_type": "markdown",
   "id": "5bbee707-8fc0-442f-9262-699fa1d53e02",
   "metadata": {},
   "source": [
    "#### Potential Paths Took By Some Random Customers"
   ]
  },
  {
   "attachments": {
    "437b460e-2d65-4cac-9627-643cb75f765e.png": {
     "image/png": "[encoded data removed]"
    },
    "9ffd6a8c-2526-4c4c-a8cd-7afb66b10729.png": {
     "image/png": "[encoded data removed]"
    },
    "b833aa9b-1beb-4fd8-8b76-16b3b08fb8c5.png": {
     "image/png": "[encoded data removed]"
    }
   },
   "cell_type": "markdown",
   "id": "d5609a80-ac7c-4f40-bbe1-a550f63ebda4",
   "metadata": {},
   "source": [
    "![image.png](attachment:b833aa9b-1beb-4fd8-8b76-16b3b08fb8c5.png)\n",
    "\n",
    "\n",
    "![image.png](attachment:437b460e-2d65-4cac-9627-643cb75f765e.png)\n",
    "\n",
    "\n",
    "![image.png](attachment:9ffd6a8c-2526-4c4c-a8cd-7afb66b10729.png)"
   ]
  },
  {
   "cell_type": "markdown",
   "id": "965c4ba8-c4b4-47ff-b944-5539c812e7f6",
   "metadata": {},
   "source": [
    "<h1 align=\"left\"><font color='green'>3.Create Markov Chain model </font></h1> <a class='anchor' id='feture_engineering_and_rfm'></a>"
   ]
  },
  {
   "cell_type": "markdown",
   "id": "55736f9b-d53b-4618-bdad-6602ef96a4d8",
   "metadata": {},
   "source": [
    "1. A Markov chain is a type of stochastic model that describes a sequence of possible events in which the probability of each event depends only on the state attained in the previous event1. This means that the future behavior of the system is independent of its past history and only depends on its current state. This property is also called memorylessness\n",
    "2. We will use markov chain to predict next stage of customer journey using probablity transition matrix"
   ]
  },
  {
   "cell_type": "code",
   "execution_count": 10,
   "id": "2fda469b-ffaf-40ec-b587-2c51694fabfc",
   "metadata": {},
   "outputs": [],
   "source": [
    "def remove_duplicates_preserve_order(lst):\n",
    "    unique_list = []\n",
    "    unique_set = set()\n",
    "    for item in lst:\n",
    "        if item not in unique_set:\n",
    "            unique_list.append(item)\n",
    "            unique_set.add(item)\n",
    "    return unique_list\n"
   ]
  },
  {
   "cell_type": "code",
   "execution_count": 11,
   "id": "16860f5f-b274-4c55-b57e-1a011f912ca7",
   "metadata": {},
   "outputs": [],
   "source": [
    "# Group the data by CustomerID and create a list of segments for each customer\n",
    "potential_paths = df.dropna().groupby(\"CustomerID\")['Path'].apply(list)\n",
    "# Remove any duplicate segments from each list and preserve the order\n",
    "potential_paths = potential_paths.apply(remove_duplicates_preserve_order)\n",
    "# Filter out the customers who have only one segment in their list\n",
    "potential_paths = potential_paths[potential_paths.apply(lambda x : False if len(x) == 1 else True)]\n",
    "# Convert the series of lists to a list of lists\n",
    "potential_paths = potential_paths.values.tolist()"
   ]
  },
  {
   "cell_type": "code",
   "execution_count": 12,
   "id": "f85cc469-d0b9-4fac-8938-ba7e532f6bbe",
   "metadata": {},
   "outputs": [],
   "source": [
    "# Create an empty set to store the unique states\n",
    "states = set()\n",
    "# Loop through each potential path\n",
    "for path in potential_paths: \n",
    "    # Loop through each state in the path\n",
    "    for state in path: \n",
    "        # Add the state to the set if it is not already there\n",
    "        states.add(state)\n",
    "        \n",
    "# Convert the set to a list\n",
    "states = list(states)\n",
    "\n",
    "# Get the number of states\n",
    "n_states = len(states)\n",
    "# Create a zero matrix of size n_states by n_states\n",
    "transition_matrix = np.zeros((n_states, n_states))"
   ]
  },
  {
   "cell_type": "code",
   "execution_count": 13,
   "id": "05851627-e9ae-43cb-a26c-3e92b1154c32",
   "metadata": {},
   "outputs": [
    {
     "name": "stderr",
     "output_type": "stream",
     "text": [
      "C:\\Users\\siddharth_black_pred\\AppData\\Local\\Temp\\ipykernel_13060\\26198696.py:12: RuntimeWarning: invalid value encountered in divide\n",
      "  transition_matrix = transition_matrix / transition_matrix.sum(axis = 1, keepdims = True)\n"
     ]
    }
   ],
   "source": [
    "# Loop through each potential path\n",
    "for path in potential_paths: \n",
    "    # Loop through each pair of consecutive states in the path\n",
    "    for i in range(len(path) - 1): \n",
    "        # Get the index of the current state in the states list\n",
    "        current_state = states.index(path[i])\n",
    "        # Get the index of the next state in the states list\n",
    "        next_state = states.index(path[i+1])\n",
    "        # Increment the corresponding entry in the transition matrix by 1\n",
    "        transition_matrix[current_state, next_state] += 1 \n",
    "# Divide each row of the transition matrix by its sum to get the probabilities\n",
    "transition_matrix = transition_matrix / transition_matrix.sum(axis = 1, keepdims = True)"
   ]
  },
  {
   "cell_type": "code",
   "execution_count": 14,
   "id": "e3f93b64-ecd6-4e01-97a8-37d4e3a8e746",
   "metadata": {},
   "outputs": [
    {
     "data": {
      "text/html": [
       "<div>\n",
       "<style scoped>\n",
       "    .dataframe tbody tr th:only-of-type {\n",
       "        vertical-align: middle;\n",
       "    }\n",
       "\n",
       "    .dataframe tbody tr th {\n",
       "        vertical-align: top;\n",
       "    }\n",
       "\n",
       "    .dataframe thead th {\n",
       "        text-align: right;\n",
       "    }\n",
       "</style>\n",
       "<table border=\"1\" class=\"dataframe\">\n",
       "  <thead>\n",
       "    <tr style=\"text-align: right;\">\n",
       "      <th></th>\n",
       "      <th>new_customers</th>\n",
       "      <th>champions</th>\n",
       "      <th>potential_loyalists</th>\n",
       "      <th>promising</th>\n",
       "      <th>at_Risk</th>\n",
       "      <th>hibernating</th>\n",
       "      <th>loyal_customers</th>\n",
       "      <th>need_attention</th>\n",
       "      <th>cant_loose</th>\n",
       "      <th>about_to_sleep</th>\n",
       "    </tr>\n",
       "  </thead>\n",
       "  <tbody>\n",
       "    <tr>\n",
       "      <th>new_customers</th>\n",
       "      <td>0.000000</td>\n",
       "      <td>0.000000</td>\n",
       "      <td>1.000000</td>\n",
       "      <td>0.000000</td>\n",
       "      <td>0.000000</td>\n",
       "      <td>0.000000</td>\n",
       "      <td>0.000000</td>\n",
       "      <td>0.000000</td>\n",
       "      <td>0.000000</td>\n",
       "      <td>0.000000</td>\n",
       "    </tr>\n",
       "    <tr>\n",
       "      <th>champions</th>\n",
       "      <td>NaN</td>\n",
       "      <td>NaN</td>\n",
       "      <td>NaN</td>\n",
       "      <td>NaN</td>\n",
       "      <td>NaN</td>\n",
       "      <td>NaN</td>\n",
       "      <td>NaN</td>\n",
       "      <td>NaN</td>\n",
       "      <td>NaN</td>\n",
       "      <td>NaN</td>\n",
       "    </tr>\n",
       "    <tr>\n",
       "      <th>potential_loyalists</th>\n",
       "      <td>0.000000</td>\n",
       "      <td>0.625000</td>\n",
       "      <td>0.000000</td>\n",
       "      <td>0.000000</td>\n",
       "      <td>0.000000</td>\n",
       "      <td>0.000000</td>\n",
       "      <td>0.375000</td>\n",
       "      <td>0.000000</td>\n",
       "      <td>0.000000</td>\n",
       "      <td>0.000000</td>\n",
       "    </tr>\n",
       "    <tr>\n",
       "      <th>promising</th>\n",
       "      <td>0.526316</td>\n",
       "      <td>0.000000</td>\n",
       "      <td>0.473684</td>\n",
       "      <td>0.000000</td>\n",
       "      <td>0.000000</td>\n",
       "      <td>0.000000</td>\n",
       "      <td>0.000000</td>\n",
       "      <td>0.000000</td>\n",
       "      <td>0.000000</td>\n",
       "      <td>0.000000</td>\n",
       "    </tr>\n",
       "    <tr>\n",
       "      <th>at_Risk</th>\n",
       "      <td>0.000000</td>\n",
       "      <td>0.052902</td>\n",
       "      <td>0.039677</td>\n",
       "      <td>0.000000</td>\n",
       "      <td>0.000000</td>\n",
       "      <td>0.002204</td>\n",
       "      <td>0.437913</td>\n",
       "      <td>0.082292</td>\n",
       "      <td>0.385011</td>\n",
       "      <td>0.000000</td>\n",
       "    </tr>\n",
       "    <tr>\n",
       "      <th>hibernating</th>\n",
       "      <td>0.010969</td>\n",
       "      <td>0.001828</td>\n",
       "      <td>0.102986</td>\n",
       "      <td>0.015235</td>\n",
       "      <td>0.659354</td>\n",
       "      <td>0.000000</td>\n",
       "      <td>0.021938</td>\n",
       "      <td>0.091408</td>\n",
       "      <td>0.002438</td>\n",
       "      <td>0.093845</td>\n",
       "    </tr>\n",
       "    <tr>\n",
       "      <th>loyal_customers</th>\n",
       "      <td>0.000000</td>\n",
       "      <td>0.993562</td>\n",
       "      <td>0.000000</td>\n",
       "      <td>0.002146</td>\n",
       "      <td>0.000000</td>\n",
       "      <td>0.000000</td>\n",
       "      <td>0.000000</td>\n",
       "      <td>0.004292</td>\n",
       "      <td>0.000000</td>\n",
       "      <td>0.000000</td>\n",
       "    </tr>\n",
       "    <tr>\n",
       "      <th>need_attention</th>\n",
       "      <td>0.000000</td>\n",
       "      <td>0.116667</td>\n",
       "      <td>0.433333</td>\n",
       "      <td>0.000000</td>\n",
       "      <td>0.000000</td>\n",
       "      <td>0.000000</td>\n",
       "      <td>0.444444</td>\n",
       "      <td>0.000000</td>\n",
       "      <td>0.000000</td>\n",
       "      <td>0.005556</td>\n",
       "    </tr>\n",
       "    <tr>\n",
       "      <th>cant_loose</th>\n",
       "      <td>0.000000</td>\n",
       "      <td>0.051502</td>\n",
       "      <td>0.000000</td>\n",
       "      <td>0.000000</td>\n",
       "      <td>0.000000</td>\n",
       "      <td>0.000000</td>\n",
       "      <td>0.948498</td>\n",
       "      <td>0.000000</td>\n",
       "      <td>0.000000</td>\n",
       "      <td>0.000000</td>\n",
       "    </tr>\n",
       "    <tr>\n",
       "      <th>about_to_sleep</th>\n",
       "      <td>0.035211</td>\n",
       "      <td>0.007042</td>\n",
       "      <td>0.612676</td>\n",
       "      <td>0.112676</td>\n",
       "      <td>0.000000</td>\n",
       "      <td>0.000000</td>\n",
       "      <td>0.056338</td>\n",
       "      <td>0.176056</td>\n",
       "      <td>0.000000</td>\n",
       "      <td>0.000000</td>\n",
       "    </tr>\n",
       "  </tbody>\n",
       "</table>\n",
       "</div>"
      ],
      "text/plain": [
       "                     new_customers  champions  potential_loyalists  promising  \\\n",
       "new_customers             0.000000   0.000000             1.000000   0.000000   \n",
       "champions                      NaN        NaN                  NaN        NaN   \n",
       "potential_loyalists       0.000000   0.625000             0.000000   0.000000   \n",
       "promising                 0.526316   0.000000             0.473684   0.000000   \n",
       "at_Risk                   0.000000   0.052902             0.039677   0.000000   \n",
       "hibernating               0.010969   0.001828             0.102986   0.015235   \n",
       "loyal_customers           0.000000   0.993562             0.000000   0.002146   \n",
       "need_attention            0.000000   0.116667             0.433333   0.000000   \n",
       "cant_loose                0.000000   0.051502             0.000000   0.000000   \n",
       "about_to_sleep            0.035211   0.007042             0.612676   0.112676   \n",
       "\n",
       "                      at_Risk  hibernating  loyal_customers  need_attention  \\\n",
       "new_customers        0.000000     0.000000         0.000000        0.000000   \n",
       "champions                 NaN          NaN              NaN             NaN   \n",
       "potential_loyalists  0.000000     0.000000         0.375000        0.000000   \n",
       "promising            0.000000     0.000000         0.000000        0.000000   \n",
       "at_Risk              0.000000     0.002204         0.437913        0.082292   \n",
       "hibernating          0.659354     0.000000         0.021938        0.091408   \n",
       "loyal_customers      0.000000     0.000000         0.000000        0.004292   \n",
       "need_attention       0.000000     0.000000         0.444444        0.000000   \n",
       "cant_loose           0.000000     0.000000         0.948498        0.000000   \n",
       "about_to_sleep       0.000000     0.000000         0.056338        0.176056   \n",
       "\n",
       "                     cant_loose  about_to_sleep  \n",
       "new_customers          0.000000        0.000000  \n",
       "champions                   NaN             NaN  \n",
       "potential_loyalists    0.000000        0.000000  \n",
       "promising              0.000000        0.000000  \n",
       "at_Risk                0.385011        0.000000  \n",
       "hibernating            0.002438        0.093845  \n",
       "loyal_customers        0.000000        0.000000  \n",
       "need_attention         0.000000        0.005556  \n",
       "cant_loose             0.000000        0.000000  \n",
       "about_to_sleep         0.000000        0.000000  "
      ]
     },
     "execution_count": 14,
     "metadata": {},
     "output_type": "execute_result"
    }
   ],
   "source": [
    "transition = pd.DataFrame(transition_matrix, columns=states)\n",
    "transition.index = states \n",
    "transition"
   ]
  },
  {
   "cell_type": "code",
   "execution_count": 15,
   "id": "2b55b657-51ae-4bec-b997-5b4f1d9570ee",
   "metadata": {},
   "outputs": [],
   "source": [
    "# Predict the text path "
   ]
  },
  {
   "cell_type": "code",
   "execution_count": 16,
   "id": "ab7d2d91-86f8-4023-a988-c7ccd241f619",
   "metadata": {},
   "outputs": [
    {
     "name": "stdout",
     "output_type": "stream",
     "text": [
      "['hibernating', 'at_Risk', 'loyal_customers'] >>> champions\n"
     ]
    }
   ],
   "source": [
    "current_path = ['hibernating', 'at_Risk', 'loyal_customers'] \n",
    "current_state_index = states.index(current_path[-1])\n",
    "next_state_index = np.random.choice(n_states, p = transition_matrix[current_state_index])\n",
    "next_state = states[next_state_index] \n",
    "print(f\"{current_path} >>> {next_state}\")"
   ]
  },
  {
   "cell_type": "markdown",
   "id": "fde2ad89",
   "metadata": {},
   "source": [
    "<h1 align=\"left\"><font color='green'>4. LSTM for future prediction</font></h1> <a class='anchor' id='kmeans_segments'></a>"
   ]
  },
  {
   "cell_type": "markdown",
   "id": "37760c21-2be4-40a4-b62c-6181ddfcf262",
   "metadata": {},
   "source": [
    "Problem With Markov Chain: It may not be realistic to assume that the future state only depends on the current state and not on the past history. to overcome this we are using LSTM\n"
   ]
  },
  {
   "cell_type": "markdown",
   "id": "ecb33a76-4270-44e9-9d5d-28cef2ae5303",
   "metadata": {},
   "source": [
    "LSTM stands for Long Short-Term Memory, which is a type of recurrent neural network (RNN) that can process sequential data and learn long-term dependencies12. Unlike standard RNNs, LSTM has a special memory cell that can store and update information over arbitrary time intervals. The memory cell is regulated by three gates: an input gate, a forget gate, and an output gate. The input gate decides which new information to store in the cell, the forget gate decides which old information to discard from the cell, and the output gate decides which information to output from the cell\n",
    "\n",
    "The advantage of LSTM over Markov chains are: \n",
    "\n",
    "LSTM can capture long-term dependencies and complex patterns in sequential data, while Markov chain assumes that the future state only depends on the current state and not on the past history12."
   ]
  },
  {
   "cell_type": "code",
   "execution_count": 1,
   "id": "ab829264-cb0c-4f44-a880-f1d4be9875fe",
   "metadata": {},
   "outputs": [],
   "source": [
    "import pandas as pd \n",
    "import numpy as np \n",
    "import pickle\n",
    "import tensorflow as tf \n",
    "from tensorflow.keras.preprocessing.sequence import pad_sequences \n",
    "from tensorflow.keras.layers import Embedding, LSTM, Dense, Bidirectional \n",
    "from tensorflow.keras.preprocessing.text import Tokenizer \n",
    "from tensorflow.keras.models import Sequential \n",
    "from tensorflow.keras.optimizers import Adam "
   ]
  },
  {
   "cell_type": "code",
   "execution_count": 2,
   "id": "ac2adc60-c366-41d3-a667-0fc40c91d1db",
   "metadata": {},
   "outputs": [],
   "source": [
    "corpus = pickle.load(open(\"potential_paths.pickle\",\"rb\"))\n",
    "corpus = [\" \".join(c) for c in corpus]"
   ]
  },
  {
   "cell_type": "code",
   "execution_count": 3,
   "id": "d9bb9c09-7c1a-4096-a445-0362bf11327b",
   "metadata": {},
   "outputs": [
    {
     "data": {
      "text/plain": [
       "{'<oov>': 1,\n",
       " 'hibernating': 2,\n",
       " 'at_risk': 3,\n",
       " 'loyal_customers': 4,\n",
       " 'champions': 5,\n",
       " 'cant_loose': 6,\n",
       " 'potential_loyalists': 7,\n",
       " 'need_attention': 8,\n",
       " 'about_to_sleep': 9,\n",
       " 'promising': 10,\n",
       " 'new_customers': 11}"
      ]
     },
     "execution_count": 3,
     "metadata": {},
     "output_type": "execute_result"
    }
   ],
   "source": [
    "# create a tokenizer object that removes punctuation and other symbols\n",
    "tokenizer = Tokenizer(filters='!\"#$%&()*+,-./:;<=>?@[\\\\]^`{|}~\\t\\n',oov_token=\"<oov>\") \n",
    "\n",
    "# fit the tokenizer on the corpus of text\n",
    "tokenizer.fit_on_texts(corpus)\n",
    "\n",
    "# get the dictionary of word to index mappings\n",
    "tokenizer.word_index"
   ]
  },
  {
   "cell_type": "code",
   "execution_count": 4,
   "id": "ec8f5e65-34ee-402d-add6-6b3b7637a269",
   "metadata": {},
   "outputs": [],
   "source": [
    "# convert the text corpus into sequences of indices using the tokenizer\n",
    "sequences = tokenizer.texts_to_sequences(corpus)\n",
    "\n",
    "# find the maximum length of any sequence in the corpus\n",
    "max_sequence_length = max([len(seq) for seq in sequences]) \n",
    "\n",
    "# pad the sequences with zeros to make them all have the same length\n",
    "padded_sequences = pad_sequences(sequences, maxlen=max_sequence_length,padding='pre')"
   ]
  },
  {
   "cell_type": "code",
   "execution_count": 5,
   "id": "d979d1a3-f00b-4c61-9976-6982bbb1bf46",
   "metadata": {},
   "outputs": [],
   "source": [
    "# split the padded sequences into inputs and targets for training\n",
    "# the inputs are all the words except the last one in each sequence\n",
    "# the targets are the last words in each sequence\n",
    "train_inputs = padded_sequences[:,:-1] \n",
    "train_targets = padded_sequences[:,-1]\n",
    "\n",
    "# get the size of the vocabulary from the tokenizer\n",
    "vocabulary_size = len(tokenizer.word_counts)+1"
   ]
  },
  {
   "cell_type": "code",
   "execution_count": 8,
   "id": "01bbab6f-d5c4-4489-b6f9-b062fcca8dc3",
   "metadata": {},
   "outputs": [
    {
     "name": "stdout",
     "output_type": "stream",
     "text": [
      "Epoch 1/50\n",
      "60/60 [==============================] - 2s 9ms/step - loss: 2.1862 - accuracy: 0.3211 - val_loss: 1.8963 - val_accuracy: 0.4021\n",
      "Epoch 2/50\n",
      "60/60 [==============================] - 0s 3ms/step - loss: 1.7461 - accuracy: 0.4621 - val_loss: 1.6950 - val_accuracy: 0.4758\n",
      "Epoch 3/50\n",
      "60/60 [==============================] - 0s 3ms/step - loss: 1.4773 - accuracy: 0.5221 - val_loss: 1.4272 - val_accuracy: 0.4737\n",
      "Epoch 4/50\n",
      "60/60 [==============================] - 0s 3ms/step - loss: 1.2613 - accuracy: 0.5811 - val_loss: 1.2464 - val_accuracy: 0.5705\n",
      "Epoch 5/50\n",
      "60/60 [==============================] - 0s 3ms/step - loss: 1.1203 - accuracy: 0.6258 - val_loss: 1.1466 - val_accuracy: 0.6253\n",
      "Epoch 6/50\n",
      "60/60 [==============================] - 0s 3ms/step - loss: 1.0545 - accuracy: 0.6526 - val_loss: 1.1222 - val_accuracy: 0.6337\n",
      "Epoch 7/50\n",
      "60/60 [==============================] - 0s 3ms/step - loss: 1.0237 - accuracy: 0.6674 - val_loss: 1.1008 - val_accuracy: 0.6337\n",
      "Epoch 8/50\n",
      "60/60 [==============================] - 0s 3ms/step - loss: 1.0056 - accuracy: 0.6689 - val_loss: 1.0891 - val_accuracy: 0.6337\n",
      "Epoch 9/50\n",
      "60/60 [==============================] - 0s 3ms/step - loss: 0.9985 - accuracy: 0.6679 - val_loss: 1.0847 - val_accuracy: 0.6253\n",
      "Epoch 10/50\n",
      "60/60 [==============================] - 0s 3ms/step - loss: 0.9846 - accuracy: 0.6674 - val_loss: 1.0722 - val_accuracy: 0.6379\n",
      "Epoch 11/50\n",
      "60/60 [==============================] - 0s 3ms/step - loss: 0.9810 - accuracy: 0.6653 - val_loss: 1.0783 - val_accuracy: 0.6379\n",
      "Epoch 12/50\n",
      "60/60 [==============================] - 0s 3ms/step - loss: 0.9720 - accuracy: 0.6689 - val_loss: 1.0691 - val_accuracy: 0.6379\n",
      "Epoch 13/50\n",
      "60/60 [==============================] - 0s 3ms/step - loss: 0.9659 - accuracy: 0.6684 - val_loss: 1.0657 - val_accuracy: 0.6379\n",
      "Epoch 14/50\n",
      "60/60 [==============================] - 0s 3ms/step - loss: 0.9637 - accuracy: 0.6716 - val_loss: 1.0628 - val_accuracy: 0.6337\n",
      "Epoch 15/50\n",
      "60/60 [==============================] - 0s 3ms/step - loss: 0.9594 - accuracy: 0.6695 - val_loss: 1.0723 - val_accuracy: 0.6337\n",
      "Epoch 16/50\n",
      "60/60 [==============================] - 0s 3ms/step - loss: 0.9632 - accuracy: 0.6684 - val_loss: 1.0649 - val_accuracy: 0.6358\n",
      "Epoch 17/50\n",
      "60/60 [==============================] - 0s 3ms/step - loss: 0.9556 - accuracy: 0.6700 - val_loss: 1.0782 - val_accuracy: 0.6379\n",
      "Epoch 18/50\n",
      "60/60 [==============================] - 0s 3ms/step - loss: 0.9544 - accuracy: 0.6653 - val_loss: 1.0570 - val_accuracy: 0.6358\n",
      "Epoch 19/50\n",
      "60/60 [==============================] - 0s 3ms/step - loss: 0.9514 - accuracy: 0.6711 - val_loss: 1.0667 - val_accuracy: 0.6358\n",
      "Epoch 20/50\n",
      "60/60 [==============================] - 0s 4ms/step - loss: 0.9514 - accuracy: 0.6611 - val_loss: 1.0589 - val_accuracy: 0.6358\n",
      "Epoch 21/50\n",
      "60/60 [==============================] - 0s 3ms/step - loss: 0.9475 - accuracy: 0.6711 - val_loss: 1.0677 - val_accuracy: 0.6358\n",
      "Epoch 22/50\n",
      "60/60 [==============================] - 0s 3ms/step - loss: 0.9464 - accuracy: 0.6716 - val_loss: 1.0561 - val_accuracy: 0.6358\n",
      "Epoch 23/50\n",
      "60/60 [==============================] - 0s 4ms/step - loss: 0.9472 - accuracy: 0.6721 - val_loss: 1.0615 - val_accuracy: 0.6316\n",
      "Epoch 24/50\n",
      "60/60 [==============================] - 0s 4ms/step - loss: 0.9442 - accuracy: 0.6726 - val_loss: 1.0589 - val_accuracy: 0.6337\n",
      "Epoch 25/50\n",
      "60/60 [==============================] - 0s 3ms/step - loss: 0.9432 - accuracy: 0.6726 - val_loss: 1.0615 - val_accuracy: 0.6295\n",
      "Epoch 26/50\n",
      "60/60 [==============================] - 0s 3ms/step - loss: 0.9463 - accuracy: 0.6716 - val_loss: 1.0598 - val_accuracy: 0.6274\n",
      "Epoch 27/50\n",
      "60/60 [==============================] - 0s 3ms/step - loss: 0.9411 - accuracy: 0.6700 - val_loss: 1.0625 - val_accuracy: 0.6274\n",
      "Epoch 28/50\n",
      "60/60 [==============================] - 0s 3ms/step - loss: 0.9394 - accuracy: 0.6705 - val_loss: 1.0591 - val_accuracy: 0.6274\n",
      "Epoch 29/50\n",
      "60/60 [==============================] - 0s 3ms/step - loss: 0.9404 - accuracy: 0.6689 - val_loss: 1.0551 - val_accuracy: 0.6274\n",
      "Epoch 30/50\n",
      "60/60 [==============================] - 0s 3ms/step - loss: 0.9370 - accuracy: 0.6721 - val_loss: 1.0689 - val_accuracy: 0.6211\n",
      "Epoch 31/50\n",
      "60/60 [==============================] - 0s 3ms/step - loss: 0.9415 - accuracy: 0.6705 - val_loss: 1.0593 - val_accuracy: 0.6316\n",
      "Epoch 32/50\n",
      "60/60 [==============================] - 0s 3ms/step - loss: 0.9388 - accuracy: 0.6726 - val_loss: 1.0625 - val_accuracy: 0.6274\n",
      "Epoch 33/50\n",
      "60/60 [==============================] - 0s 4ms/step - loss: 0.9384 - accuracy: 0.6721 - val_loss: 1.0576 - val_accuracy: 0.6337\n",
      "Epoch 34/50\n",
      "60/60 [==============================] - 0s 4ms/step - loss: 0.9401 - accuracy: 0.6716 - val_loss: 1.0588 - val_accuracy: 0.6274\n",
      "Epoch 35/50\n",
      "60/60 [==============================] - 0s 3ms/step - loss: 0.9345 - accuracy: 0.6732 - val_loss: 1.0645 - val_accuracy: 0.6274\n",
      "Epoch 36/50\n",
      "60/60 [==============================] - 0s 3ms/step - loss: 0.9346 - accuracy: 0.6711 - val_loss: 1.0580 - val_accuracy: 0.6274\n",
      "Epoch 37/50\n",
      "60/60 [==============================] - 0s 3ms/step - loss: 0.9363 - accuracy: 0.6700 - val_loss: 1.0544 - val_accuracy: 0.6274\n",
      "Epoch 38/50\n",
      "60/60 [==============================] - 0s 3ms/step - loss: 0.9354 - accuracy: 0.6732 - val_loss: 1.0519 - val_accuracy: 0.6316\n",
      "Epoch 39/50\n",
      "60/60 [==============================] - 0s 3ms/step - loss: 0.9345 - accuracy: 0.6732 - val_loss: 1.0523 - val_accuracy: 0.6274\n",
      "Epoch 40/50\n",
      "60/60 [==============================] - 0s 4ms/step - loss: 0.9331 - accuracy: 0.6737 - val_loss: 1.0569 - val_accuracy: 0.6316\n",
      "Epoch 41/50\n",
      "60/60 [==============================] - 0s 4ms/step - loss: 0.9313 - accuracy: 0.6737 - val_loss: 1.0680 - val_accuracy: 0.6274\n",
      "Epoch 42/50\n",
      "60/60 [==============================] - 0s 3ms/step - loss: 0.9385 - accuracy: 0.6721 - val_loss: 1.0552 - val_accuracy: 0.6316\n",
      "Epoch 43/50\n",
      "60/60 [==============================] - 0s 3ms/step - loss: 0.9323 - accuracy: 0.6747 - val_loss: 1.0640 - val_accuracy: 0.6316\n",
      "Epoch 44/50\n",
      "60/60 [==============================] - 0s 3ms/step - loss: 0.9311 - accuracy: 0.6700 - val_loss: 1.0635 - val_accuracy: 0.6316\n",
      "Epoch 45/50\n",
      "60/60 [==============================] - 0s 3ms/step - loss: 0.9302 - accuracy: 0.6711 - val_loss: 1.0802 - val_accuracy: 0.6274\n",
      "Epoch 46/50\n",
      "60/60 [==============================] - 0s 3ms/step - loss: 0.9323 - accuracy: 0.6674 - val_loss: 1.0618 - val_accuracy: 0.6316\n",
      "Epoch 47/50\n",
      "60/60 [==============================] - 0s 3ms/step - loss: 0.9303 - accuracy: 0.6732 - val_loss: 1.0736 - val_accuracy: 0.6316\n",
      "Epoch 48/50\n",
      "60/60 [==============================] - 0s 3ms/step - loss: 0.9285 - accuracy: 0.6716 - val_loss: 1.0767 - val_accuracy: 0.6253\n",
      "Epoch 49/50\n",
      "60/60 [==============================] - 0s 3ms/step - loss: 0.9328 - accuracy: 0.6711 - val_loss: 1.0612 - val_accuracy: 0.6274\n",
      "Epoch 50/50\n",
      "60/60 [==============================] - 0s 5ms/step - loss: 0.9285 - accuracy: 0.6726 - val_loss: 1.0621 - val_accuracy: 0.6316\n"
     ]
    },
    {
     "data": {
      "text/plain": [
       "<keras.callbacks.History at 0x2f13e41de80>"
      ]
     },
     "execution_count": 8,
     "metadata": {},
     "output_type": "execute_result"
    }
   ],
   "source": [
    "# create a sequential model\n",
    "model = Sequential() \n",
    "\n",
    "# add an embedding layer that maps each word index to a 16-dimensional vector\n",
    "model.add(Embedding(vocabulary_size+1, 16, input_length = max_sequence_length-1)) \n",
    "\n",
    "# add a LSTM layer that learns the sequential patterns in the inputs\n",
    "model.add(LSTM(50)) \n",
    "model.add(Dense(32, activation = \"relu\"))\n",
    "# add a dense layer that outputs a probability distribution over the vocabulary\n",
    "model.add(Dense(vocabulary_size+1, activation = \"softmax\"))\n",
    "\n",
    "# compile the model with a loss function, an optimizer and a metric\n",
    "model.compile(loss='sparse_categorical_crossentropy', optimizer='adam', metrics=['accuracy'])\n",
    "\n",
    "# train the model on the inputs and targets for 30 epochs\n",
    "model.fit(train_inputs,train_targets,epochs=50,verbose=1, validation_split = 0.2, shuffle = True)\n"
   ]
  },
  {
   "cell_type": "code",
   "execution_count": 15,
   "id": "8d2a0696",
   "metadata": {},
   "outputs": [
    {
     "data": {
      "text/plain": [
       "<AxesSubplot:>"
      ]
     },
     "execution_count": 15,
     "metadata": {},
     "output_type": "execute_result"
    },
    {
     "data": {
      "image/png": "[encoded data removed]",
      "text/plain": [
       "<Figure size 640x480 with 1 Axes>"
      ]
     },
     "metadata": {},
     "output_type": "display_data"
    }
   ],
   "source": [
    "pd.DataFrame(model.history.history)[['loss','val_loss']].plot()"
   ]
  },
  {
   "cell_type": "code",
   "execution_count": 16,
   "id": "69a1d86b-c0d2-44c4-993f-54e68b0becdf",
   "metadata": {},
   "outputs": [],
   "source": [
    "# define a function that predicts the next word(s) given a seed text\n",
    "def predict_next_state(seed_text, next_words = 1):\n",
    "    # uncomment the following line to use the first sentence in the corpus as the seed text\n",
    "    #seed_text = \" \".join(corpus[0].split(\" \")[:-1])\n",
    "    \n",
    "    # loop for the number of words to predict\n",
    "    for _ in range(next_words): \n",
    "        # convert the seed text into a sequence of indices using the tokenizer\n",
    "        token_list = tokenizer.texts_to_sequences([seed_text])[0]\n",
    "        \n",
    "        # pad the sequence with zeros to match the input length of the model\n",
    "        token_list = pad_sequences([token_list], maxlen = max_sequence_length - 1, padding = \"pre\") \n",
    "        \n",
    "        # use the model to predict the next word index given the sequence\n",
    "        predicted = np.argmax(model.predict(token_list), axis = 1) \n",
    "        \n",
    "        # initialize an empty string to store the output word\n",
    "        output_word = \"\" \n",
    "        \n",
    "        # loop through the word index dictionary to find the word that matches the predicted index\n",
    "        for word, index in tokenizer.word_index.items(): \n",
    "            if index == predicted: \n",
    "                output_word = word \n",
    "                break \n",
    "        \n",
    "        # append the output word to the seed text with a separator\n",
    "        seed_text += \" >>> \" + output_word\n",
    "    \n",
    "    # print the final seed text with the predicted words\n",
    "    return seed_text"
   ]
  },
  {
   "cell_type": "code",
   "execution_count": 17,
   "id": "6feb232c-83e4-4d13-8175-62ddcd065048",
   "metadata": {},
   "outputs": [
    {
     "name": "stdout",
     "output_type": "stream",
     "text": [
      "1/1 [==============================] - 0s 19ms/step\n"
     ]
    },
    {
     "data": {
      "text/plain": [
       "'at_Risk cant_loose loyal_customers >>> champions'"
      ]
     },
     "execution_count": 17,
     "metadata": {},
     "output_type": "execute_result"
    }
   ],
   "source": [
    "predict_next_state(\"at_Risk cant_loose loyal_customers\")"
   ]
  },
  {
   "cell_type": "code",
   "execution_count": 18,
   "id": "4eb30fa7-6ca2-4bf4-b05d-120915727104",
   "metadata": {},
   "outputs": [
    {
     "name": "stdout",
     "output_type": "stream",
     "text": [
      "1/1 [==============================] - 0s 18ms/step\n"
     ]
    },
    {
     "data": {
      "text/plain": [
       "'hibernating need_attention >>> potential_loyalists'"
      ]
     },
     "execution_count": 18,
     "metadata": {},
     "output_type": "execute_result"
    }
   ],
   "source": [
    "predict_next_state(\"hibernating need_attention\")"
   ]
  },
  {
   "cell_type": "code",
   "execution_count": null,
   "id": "5b5489a2-e652-4a19-bbbd-980e61220581",
   "metadata": {},
   "outputs": [],
   "source": []
  }
 ],
 "metadata": {
  "kernelspec": {
   "display_name": "Python 3 (ipykernel)",
   "language": "python",
   "name": "python3"
  },
  "language_info": {
   "codemirror_mode": {
    "name": "ipython",
    "version": 3
   },
   "file_extension": ".py",
   "mimetype": "text/x-python",
   "name": "python",
   "nbconvert_exporter": "python",
   "pygments_lexer": "ipython3",
   "version": "3.9.13"
  }
 },
 "nbformat": 4,
 "nbformat_minor": 5
}
